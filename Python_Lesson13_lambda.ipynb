{
 "cells": [
  {
   "cell_type": "code",
   "execution_count": null,
   "metadata": {
    "ExecuteTime": {
     "end_time": "2021-04-22T06:23:27.651761Z",
     "start_time": "2021-04-22T06:23:27.648663Z"
    }
   },
   "outputs": [],
   "source": [
    "from collections.abc import Iterator, Iterable\n",
    "# 檢驗 iterator 或 iterable"
   ]
  },
  {
   "cell_type": "markdown",
   "metadata": {
    "ExecuteTime": {
     "end_time": "2021-03-27T03:51:33.786419Z",
     "start_time": "2021-03-27T03:51:33.783774Z"
    }
   },
   "source": [
    "# lambda function (匿名函數)"
   ]
  },
  {
   "cell_type": "code",
   "execution_count": null,
   "metadata": {
    "ExecuteTime": {
     "end_time": "2021-04-22T06:23:45.079237Z",
     "start_time": "2021-04-22T06:23:45.075369Z"
    }
   },
   "outputs": [],
   "source": [
    "lambda x: x*x"
   ]
  },
  {
   "cell_type": "code",
   "execution_count": null,
   "metadata": {
    "ExecuteTime": {
     "end_time": "2021-04-22T06:26:44.634033Z",
     "start_time": "2021-04-22T06:26:44.631435Z"
    }
   },
   "outputs": [],
   "source": [
    "def mod_two(x):\n",
    "    return x % 2"
   ]
  },
  {
   "cell_type": "code",
   "execution_count": null,
   "metadata": {
    "ExecuteTime": {
     "end_time": "2021-04-22T06:26:51.411100Z",
     "start_time": "2021-04-22T06:26:51.407024Z"
    }
   },
   "outputs": [],
   "source": [
    "data = [1, 2, 3, 4, 5, 6, 7, 8]\n",
    "sorted(data, key=lambda x: x%2)"
   ]
  },
  {
   "cell_type": "markdown",
   "metadata": {
    "ExecuteTime": {
     "end_time": "2021-03-28T08:51:57.084506Z",
     "start_time": "2021-03-28T08:51:57.080453Z"
    }
   },
   "source": [
    "# filter"
   ]
  },
  {
   "cell_type": "code",
   "execution_count": null,
   "metadata": {
    "ExecuteTime": {
     "end_time": "2021-04-22T06:31:48.687364Z",
     "start_time": "2021-04-22T06:31:48.684358Z"
    }
   },
   "outputs": [],
   "source": [
    "data = [1, 2, 3, 4, 5, 6, 7, 8]\n",
    "filter_data = filter(lambda x: x > 5, data)"
   ]
  },
  {
   "cell_type": "code",
   "execution_count": null,
   "metadata": {
    "ExecuteTime": {
     "end_time": "2021-04-22T06:31:48.891638Z",
     "start_time": "2021-04-22T06:31:48.887780Z"
    }
   },
   "outputs": [],
   "source": [
    "isinstance(filter_data, Iterator)"
   ]
  },
  {
   "cell_type": "code",
   "execution_count": null,
   "metadata": {
    "ExecuteTime": {
     "end_time": "2021-04-22T06:31:49.130361Z",
     "start_time": "2021-04-22T06:31:49.126349Z"
    }
   },
   "outputs": [],
   "source": [
    "list(filter_data)"
   ]
  },
  {
   "cell_type": "markdown",
   "metadata": {},
   "source": [
    "# map"
   ]
  },
  {
   "cell_type": "code",
   "execution_count": null,
   "metadata": {
    "ExecuteTime": {
     "end_time": "2021-04-22T06:33:33.432632Z",
     "start_time": "2021-04-22T06:33:33.428130Z"
    }
   },
   "outputs": [],
   "source": [
    "map_data = []\n",
    "for x in data:\n",
    "    map_data.append(x**2)\n",
    "map_data"
   ]
  },
  {
   "cell_type": "code",
   "execution_count": null,
   "metadata": {
    "ExecuteTime": {
     "end_time": "2021-04-22T06:33:55.944031Z",
     "start_time": "2021-04-22T06:33:55.940333Z"
    }
   },
   "outputs": [],
   "source": [
    "[x**2 for x in data]"
   ]
  },
  {
   "cell_type": "code",
   "execution_count": null,
   "metadata": {
    "ExecuteTime": {
     "end_time": "2021-04-22T06:34:33.975971Z",
     "start_time": "2021-04-22T06:34:33.973420Z"
    }
   },
   "outputs": [],
   "source": [
    "data = [1, 2, 3, 4, 5, 6, 7, 8]\n",
    "map_data = map(lambda x: x**2, data)"
   ]
  },
  {
   "cell_type": "code",
   "execution_count": null,
   "metadata": {
    "ExecuteTime": {
     "end_time": "2021-04-22T06:34:36.185062Z",
     "start_time": "2021-04-22T06:34:36.181563Z"
    }
   },
   "outputs": [],
   "source": [
    "isinstance(map_data, Iterator)"
   ]
  },
  {
   "cell_type": "code",
   "execution_count": null,
   "metadata": {
    "ExecuteTime": {
     "end_time": "2021-04-22T06:34:42.361009Z",
     "start_time": "2021-04-22T06:34:42.356439Z"
    }
   },
   "outputs": [],
   "source": [
    "list(map_data)"
   ]
  },
  {
   "cell_type": "markdown",
   "metadata": {},
   "source": [
    "# reduce"
   ]
  },
  {
   "cell_type": "code",
   "execution_count": null,
   "metadata": {
    "ExecuteTime": {
     "end_time": "2021-04-22T06:37:14.330790Z",
     "start_time": "2021-04-22T06:37:14.328469Z"
    }
   },
   "outputs": [],
   "source": [
    "from functools import reduce"
   ]
  },
  {
   "cell_type": "code",
   "execution_count": null,
   "metadata": {
    "ExecuteTime": {
     "end_time": "2021-04-22T06:41:08.231113Z",
     "start_time": "2021-04-22T06:41:08.226800Z"
    }
   },
   "outputs": [],
   "source": [
    "data = [1, 2, 3, 4, 5, 6, 7, 8]\n",
    "map_data = map(lambda x: x**2, data)\n",
    "reduce(lambda x, y: x + y, map_data)"
   ]
  },
  {
   "cell_type": "markdown",
   "metadata": {},
   "source": [
    "# 練習"
   ]
  },
  {
   "cell_type": "code",
   "execution_count": null,
   "metadata": {
    "ExecuteTime": {
     "end_time": "2021-04-22T06:49:06.989809Z",
     "start_time": "2021-04-22T06:49:06.985525Z"
    }
   },
   "outputs": [],
   "source": [
    "# N!\n",
    "# 5! = 5 * 4 * 3 * 2 * 1\n",
    "def factorial(n):"
   ]
  },
  {
   "cell_type": "code",
   "execution_count": null,
   "metadata": {
    "ExecuteTime": {
     "end_time": "2021-04-22T07:03:34.763382Z",
     "start_time": "2021-04-22T07:03:34.760058Z"
    }
   },
   "outputs": [],
   "source": [
    "# 利用 lambda, map\n",
    "\n",
    "input_data = ({'name':'Timothy', \n",
    "                'id':1, \n",
    "                'email':'woodooo@yahoo.com.tw'}, \n",
    "               {'name': 'Ellna',\n",
    "                'id': 2,\n",
    "                'email': 'ellna332@gmail.com'})\n",
    "output_data = [('Timothy', 'woodooo@yahoo.com.tw'), \n",
    "               ('Ellna', 'ellna332@gmail.com')]\n"
   ]
  },
  {
   "cell_type": "code",
   "execution_count": null,
   "metadata": {},
   "outputs": [],
   "source": [
    "# 利用 lambda, map, enumerate\n",
    "pattern = 'abba'\n",
    "sentence = 'dog cat cat dog'\n",
    "# 判斷單字的組成是否跟 pattern的長相一致\n",
    "# sentence 內的單字皆是以空格分割\n",
    "\n",
    "# 比較 pattern 組合跟 sentence 組合是否相同\n",
    "\n",
    "def pattern_match(pattern, sentence):"
   ]
  },
  {
   "cell_type": "code",
   "execution_count": null,
   "metadata": {},
   "outputs": [],
   "source": []
  }
 ],
 "metadata": {
  "kernelspec": {
   "display_name": "Python 3",
   "language": "python",
   "name": "python3"
  },
  "language_info": {
   "codemirror_mode": {
    "name": "ipython",
    "version": 3
   },
   "file_extension": ".py",
   "mimetype": "text/x-python",
   "name": "python",
   "nbconvert_exporter": "python",
   "pygments_lexer": "ipython3",
   "version": "3.7.3"
  },
  "toc": {
   "base_numbering": 1,
   "nav_menu": {},
   "number_sections": true,
   "sideBar": true,
   "skip_h1_title": false,
   "title_cell": "Table of Contents",
   "title_sidebar": "Contents",
   "toc_cell": false,
   "toc_position": {},
   "toc_section_display": true,
   "toc_window_display": false
  },
  "varInspector": {
   "cols": {
    "lenName": 16,
    "lenType": 16,
    "lenVar": 40
   },
   "kernels_config": {
    "python": {
     "delete_cmd_postfix": "",
     "delete_cmd_prefix": "del ",
     "library": "var_list.py",
     "varRefreshCmd": "print(var_dic_list())"
    },
    "r": {
     "delete_cmd_postfix": ") ",
     "delete_cmd_prefix": "rm(",
     "library": "var_list.r",
     "varRefreshCmd": "cat(var_dic_list()) "
    }
   },
   "types_to_exclude": [
    "module",
    "function",
    "builtin_function_or_method",
    "instance",
    "_Feature"
   ],
   "window_display": false
  }
 },
 "nbformat": 4,
 "nbformat_minor": 2
}
