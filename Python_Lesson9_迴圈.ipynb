{
 "cells": [
  {
   "cell_type": "markdown",
   "metadata": {},
   "source": [
    "# While loop"
   ]
  },
  {
   "cell_type": "code",
   "execution_count": null,
   "metadata": {},
   "outputs": [],
   "source": [
    "while 判斷句:\n",
    "    陳述句"
   ]
  },
  {
   "cell_type": "code",
   "execution_count": null,
   "metadata": {
    "ExecuteTime": {
     "end_time": "2021-03-23T16:46:22.276451Z",
     "start_time": "2021-03-23T16:46:22.273048Z"
    }
   },
   "outputs": [],
   "source": [
    "data = 0\n",
    "while data < 5:\n",
    "    data += 1\n",
    "    print(data)"
   ]
  },
  {
   "cell_type": "markdown",
   "metadata": {},
   "source": [
    "# for loop"
   ]
  },
  {
   "cell_type": "code",
   "execution_count": null,
   "metadata": {
    "ExecuteTime": {
     "end_time": "2021-03-23T16:59:27.189266Z",
     "start_time": "2021-03-23T16:59:27.185716Z"
    }
   },
   "outputs": [],
   "source": [
    "data = [1, 2, 3, 4, 5, 6]\n",
    "for element in data:\n",
    "    if (element % 2) == 0:\n",
    "        print(element)"
   ]
  },
  {
   "cell_type": "code",
   "execution_count": null,
   "metadata": {
    "ExecuteTime": {
     "end_time": "2021-03-23T17:12:41.292768Z",
     "start_time": "2021-03-23T17:12:41.289532Z"
    }
   },
   "outputs": [],
   "source": [
    "data = \"abcde\"\n",
    "for char in data:\n",
    "    print(char)"
   ]
  },
  {
   "cell_type": "code",
   "execution_count": null,
   "metadata": {
    "ExecuteTime": {
     "end_time": "2021-03-23T17:14:07.620509Z",
     "start_time": "2021-03-23T17:14:07.617157Z"
    }
   },
   "outputs": [],
   "source": [
    "data = {\"a\": \"A\",\n",
    "        \"b\": \"B\",\n",
    "        \"c\": \"C\"}\n",
    "for key in data:\n",
    "    print(key)"
   ]
  },
  {
   "cell_type": "code",
   "execution_count": null,
   "metadata": {
    "ExecuteTime": {
     "end_time": "2021-03-23T17:29:33.096947Z",
     "start_time": "2021-03-23T17:29:33.093080Z"
    }
   },
   "outputs": [],
   "source": [
    "data = {\"a\": \"A\",\n",
    "        \"b\": \"B\",\n",
    "        \"c\": \"C\"}\n",
    "# print(data.items())\n",
    "for key, value in [[1, 2], \n",
    "                   [3, 4], \n",
    "                   [5, 6]]:\n",
    "    print(key, value)"
   ]
  },
  {
   "cell_type": "markdown",
   "metadata": {},
   "source": [
    "### break"
   ]
  },
  {
   "cell_type": "code",
   "execution_count": null,
   "metadata": {
    "ExecuteTime": {
     "end_time": "2021-03-23T17:35:54.840068Z",
     "start_time": "2021-03-23T17:35:54.836734Z"
    }
   },
   "outputs": [],
   "source": [
    "data = [1, 9, -2, 3, 6]\n",
    "for element in data:\n",
    "    if element < 0:\n",
    "        print(element)\n",
    "        break"
   ]
  },
  {
   "cell_type": "markdown",
   "metadata": {},
   "source": [
    "### continue"
   ]
  },
  {
   "cell_type": "code",
   "execution_count": null,
   "metadata": {
    "ExecuteTime": {
     "end_time": "2021-03-23T17:38:29.701785Z",
     "start_time": "2021-03-23T17:38:29.698975Z"
    }
   },
   "outputs": [],
   "source": [
    "data = [1, 9, -2, 3, 6]\n",
    "for element in data:\n",
    "    if element < 0:\n",
    "        continue\n",
    "    print(element)"
   ]
  },
  {
   "cell_type": "markdown",
   "metadata": {},
   "source": [
    "### pass"
   ]
  },
  {
   "cell_type": "code",
   "execution_count": null,
   "metadata": {
    "ExecuteTime": {
     "end_time": "2021-03-23T17:39:31.840987Z",
     "start_time": "2021-03-23T17:39:31.837074Z"
    }
   },
   "outputs": [],
   "source": [
    "data = [1, 9, -2, 3, 6]\n",
    "for element in data:\n",
    "    if element < 0:\n",
    "        pass\n",
    "    print(element)"
   ]
  },
  {
   "cell_type": "markdown",
   "metadata": {},
   "source": [
    "### else"
   ]
  },
  {
   "cell_type": "code",
   "execution_count": 2,
   "metadata": {
    "ExecuteTime": {
     "end_time": "2021-06-26T17:06:09.573394Z",
     "start_time": "2021-06-26T17:06:09.569808Z"
    }
   },
   "outputs": [],
   "source": [
    "data = [1, 2, 3, 4, 5, 6]\n",
    "for x in data:\n",
    "    if x > 5:\n",
    "        break\n",
    "else:\n",
    "    print(\"all elemects smaller than 5\")"
   ]
  },
  {
   "cell_type": "markdown",
   "metadata": {},
   "source": [
    "## range"
   ]
  },
  {
   "cell_type": "code",
   "execution_count": null,
   "metadata": {},
   "outputs": [],
   "source": [
    "data = []\n",
    "for i in range(0, 10, 2):\n",
    "    if i % 2 == 0:\n",
    "        data.append(i)\n",
    "    else:\n",
    "        data.append(1)\n",
    "data"
   ]
  },
  {
   "cell_type": "markdown",
   "metadata": {},
   "source": [
    "## List Comprehension"
   ]
  },
  {
   "cell_type": "code",
   "execution_count": null,
   "metadata": {
    "ExecuteTime": {
     "end_time": "2021-03-23T17:51:07.934364Z",
     "start_time": "2021-03-23T17:51:07.930838Z"
    }
   },
   "outputs": [],
   "source": [
    "[i for i in range(5)]"
   ]
  },
  {
   "cell_type": "code",
   "execution_count": null,
   "metadata": {
    "ExecuteTime": {
     "end_time": "2021-03-23T17:51:20.241573Z",
     "start_time": "2021-03-23T17:51:20.237722Z"
    }
   },
   "outputs": [],
   "source": [
    "[i for i in range(5) if i > 2]"
   ]
  },
  {
   "cell_type": "code",
   "execution_count": null,
   "metadata": {
    "ExecuteTime": {
     "end_time": "2021-03-23T17:51:36.492609Z",
     "start_time": "2021-03-23T17:51:36.488104Z"
    }
   },
   "outputs": [],
   "source": [
    "[i  if i > 2 else 0 for i in range(5)]"
   ]
  },
  {
   "cell_type": "markdown",
   "metadata": {},
   "source": [
    "# Nested Loop"
   ]
  },
  {
   "cell_type": "code",
   "execution_count": null,
   "metadata": {
    "ExecuteTime": {
     "end_time": "2021-03-23T17:57:21.974809Z",
     "start_time": "2021-03-23T17:57:21.969007Z"
    }
   },
   "outputs": [],
   "source": [
    "for i in range(1, 5):\n",
    "    for j in range(1, 5):\n",
    "        print(i, \"*\", j, \"=\", i * j)"
   ]
  },
  {
   "cell_type": "code",
   "execution_count": null,
   "metadata": {
    "ExecuteTime": {
     "end_time": "2021-03-24T06:20:56.106774Z",
     "start_time": "2021-03-24T06:20:56.103716Z"
    }
   },
   "outputs": [],
   "source": []
  },
  {
   "cell_type": "markdown",
   "metadata": {},
   "source": [
    "# 練習"
   ]
  },
  {
   "cell_type": "markdown",
   "metadata": {},
   "source": [
    "## FizzBuzz"
   ]
  },
  {
   "cell_type": "markdown",
   "metadata": {},
   "source": [
    "```\n",
    "輸入任意一串英文句子\n",
    "把單字換成對應的位置 1, 2, 3...\n",
    "把第三的倍數的位置單字換成 'Fizz'\n",
    "把第五的倍數的位置單字換成 'Buzz'\n",
    "把三跟五的公倍數位置單字換成 'FizzBuzz'\n",
    "```"
   ]
  },
  {
   "cell_type": "code",
   "execution_count": null,
   "metadata": {},
   "outputs": [],
   "source": [
    "input_string = \"Python can be easy to pick up whether you're a first time programmer or you're experienced with other languages. The following pages are a useful first step to get on your way writing programs with Python!\"\n"
   ]
  },
  {
   "cell_type": "markdown",
   "metadata": {},
   "source": [
    "## 九九乘法表"
   ]
  },
  {
   "cell_type": "markdown",
   "metadata": {},
   "source": [
    "```\n",
    "輸出結果為\n",
    "1 x 1 = 1  2 x 1 = 2\n",
    "1 x 2 = 2  2 x 2 = 4\n",
    ".          .\n",
    ".          .\n",
    ".          .\n",
    "```"
   ]
  },
  {
   "cell_type": "markdown",
   "metadata": {},
   "source": [
    "## 接下來的資料為多層的架構，請將該資料轉換成如下架構\n",
    "```\n",
    "['第一層', '第二層', '第三層', '第四層'],...\n",
    "]\n",
    "```\n",
    "### 每一層底下都有複數層，每個第一層下都有多個第二層，每個第二層下都有多個第三層，依此類推\n",
    "\n",
    "### 輸出結果：\n",
    "```\n",
    "[['手機/相機/耳機/穿戴', '手機', 'Apple', '品牌'],\n",
    " ['手機/相機/耳機/穿戴', '手機', 'Apple', '顏色'],\n",
    " ['手機/相機/耳機/穿戴', '手機', 'Apple', '手機類型'],\n",
    " ['手機/相機/耳機/穿戴', '手機', 'Apple', '螢幕尺寸'],\n",
    " ['手機/相機/耳機/穿戴', '手機', 'Apple', 'ROM/內建儲存空間'],\n",
    " ['手機/相機/耳機/穿戴', '手機', 'Apple', '處理器類型'],\n",
    " ['手機/相機/耳機/穿戴', '手機', 'Apple', '主相機畫素'],\n",
    " ['手機/相機/耳機/穿戴', '手機', '三星SAMSUNG', '品牌'],\n",
    " ['手機/相機/耳機/穿戴', '手機', '三星SAMSUNG', '顏色'],\n",
    " ['手機/相機/耳機/穿戴', '手機', '三星SAMSUNG', '主相機畫素'],\n",
    " ['手機/相機/耳機/穿戴', '手機', '三星SAMSUNG', '手機類型'],\n",
    " ['手機/相機/耳機/穿戴', '手機', '三星SAMSUNG', '螢幕尺寸'],\n",
    " ['手機/相機/耳機/穿戴', '手機', '三星SAMSUNG', 'ROM/內建儲存空間'],\n",
    " ['手機/相機/耳機/穿戴', '手機', '三星SAMSUNG', '處理器類型'],...\n",
    "```"
   ]
  },
  {
   "cell_type": "code",
   "execution_count": null,
   "metadata": {},
   "outputs": [],
   "source": [
    "import json\n",
    "with open(\"./for_loop_test.txt\", 'r', encoding=\"utf-8\") as f:\n",
    "    data = f.read()\n",
    "datas = json.loads(data)"
   ]
  },
  {
   "cell_type": "code",
   "execution_count": null,
   "metadata": {},
   "outputs": [],
   "source": [
    "# 第一層：dict\n",
    "datas[\"手機/相機/耳機/穿戴\"]"
   ]
  },
  {
   "cell_type": "code",
   "execution_count": null,
   "metadata": {},
   "outputs": [],
   "source": [
    "# 第二層：dict\n",
    "datas[\"手機/相機/耳機/穿戴\"][\"手機\"]"
   ]
  },
  {
   "cell_type": "code",
   "execution_count": null,
   "metadata": {},
   "outputs": [],
   "source": [
    "# 第三層：list\n",
    "datas[\"手機/相機/耳機/穿戴\"][\"手機\"][1]"
   ]
  },
  {
   "cell_type": "code",
   "execution_count": null,
   "metadata": {},
   "outputs": [],
   "source": [
    "# 第四層：dict\n",
    "datas[\"手機/相機/耳機/穿戴\"][\"手機\"][1][\"Apple\"]"
   ]
  },
  {
   "cell_type": "code",
   "execution_count": null,
   "metadata": {},
   "outputs": [],
   "source": [
    "# 第五層：list\n",
    "datas[\"手機/相機/耳機/穿戴\"][\"手機\"][1][\"Apple\"][1]"
   ]
  },
  {
   "cell_type": "code",
   "execution_count": null,
   "metadata": {},
   "outputs": [],
   "source": [
    "# 第六層：dict\n",
    "datas[\"手機/相機/耳機/穿戴\"][\"手機\"][1][\"Apple\"][1].keys()"
   ]
  },
  {
   "cell_type": "code",
   "execution_count": null,
   "metadata": {},
   "outputs": [],
   "source": []
  }
 ],
 "metadata": {
  "kernelspec": {
   "display_name": "Python 3",
   "language": "python",
   "name": "python3"
  },
  "language_info": {
   "codemirror_mode": {
    "name": "ipython",
    "version": 3
   },
   "file_extension": ".py",
   "mimetype": "text/x-python",
   "name": "python",
   "nbconvert_exporter": "python",
   "pygments_lexer": "ipython3",
   "version": "3.7.3"
  },
  "toc": {
   "base_numbering": 1,
   "nav_menu": {},
   "number_sections": true,
   "sideBar": true,
   "skip_h1_title": false,
   "title_cell": "Table of Contents",
   "title_sidebar": "Contents",
   "toc_cell": false,
   "toc_position": {},
   "toc_section_display": true,
   "toc_window_display": false
  },
  "varInspector": {
   "cols": {
    "lenName": 16,
    "lenType": 16,
    "lenVar": 40
   },
   "kernels_config": {
    "python": {
     "delete_cmd_postfix": "",
     "delete_cmd_prefix": "del ",
     "library": "var_list.py",
     "varRefreshCmd": "print(var_dic_list())"
    },
    "r": {
     "delete_cmd_postfix": ") ",
     "delete_cmd_prefix": "rm(",
     "library": "var_list.r",
     "varRefreshCmd": "cat(var_dic_list()) "
    }
   },
   "types_to_exclude": [
    "module",
    "function",
    "builtin_function_or_method",
    "instance",
    "_Feature"
   ],
   "window_display": false
  }
 },
 "nbformat": 4,
 "nbformat_minor": 2
}
