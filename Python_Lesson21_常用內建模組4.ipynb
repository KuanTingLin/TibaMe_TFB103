{
 "cells": [
  {
   "cell_type": "markdown",
   "metadata": {},
   "source": [
    "# itertools"
   ]
  },
  {
   "cell_type": "code",
   "execution_count": null,
   "metadata": {},
   "outputs": [],
   "source": [
    "from itertools import count, repeat, cycle, chain, islice"
   ]
  },
  {
   "cell_type": "markdown",
   "metadata": {},
   "source": [
    "### count"
   ]
  },
  {
   "cell_type": "code",
   "execution_count": null,
   "metadata": {},
   "outputs": [],
   "source": [
    "# 計數器\n",
    "# count(<start>, <step>) \n",
    "count_test = count(start=0, step=1)\n",
    "print(next(count_test))\n",
    "print(next(count_test))\n",
    "print(next(count_test))"
   ]
  },
  {
   "cell_type": "markdown",
   "metadata": {},
   "source": [
    "### repeat"
   ]
  },
  {
   "cell_type": "code",
   "execution_count": null,
   "metadata": {},
   "outputs": [],
   "source": [
    "# 建立無限重複回傳帶入的物件的 iterator \n",
    "repeat_test = repeat(9, 3)\n",
    "for x in repeat_test:\n",
    "    print(x)"
   ]
  },
  {
   "cell_type": "markdown",
   "metadata": {},
   "source": [
    "### cycle"
   ]
  },
  {
   "cell_type": "code",
   "execution_count": null,
   "metadata": {},
   "outputs": [],
   "source": [
    "# 將 iterable 物件轉換成 iterator 物件，無限循環\n",
    "cycle_test = cycle([1, 2, 3])\n",
    "for x in cycle_test:\n",
    "    print(x)\n",
    "    if next(count_test) == 10:\n",
    "        break"
   ]
  },
  {
   "cell_type": "code",
   "execution_count": null,
   "metadata": {},
   "outputs": [],
   "source": [
    "# 將多個可迭代物件串成 iterator 物件\n",
    "chain_test = chain([1, 2, 3], [4, 5, 6])\n",
    "for x in chain_test:\n",
    "    print(x)"
   ]
  },
  {
   "cell_type": "code",
   "execution_count": null,
   "metadata": {},
   "outputs": [],
   "source": [
    "# 將可迭代物件切片轉換成 iterator 物件\n",
    "islice_test = islice([1, 2, 3, 4, 5, 6, 7, 8, 9], 0, 6, 2)\n",
    "for x in islice_test:\n",
    "    print(x)"
   ]
  },
  {
   "cell_type": "markdown",
   "metadata": {},
   "source": [
    "## permutation"
   ]
  },
  {
   "cell_type": "code",
   "execution_count": null,
   "metadata": {},
   "outputs": [],
   "source": [
    "from itertools import product, combinations, combinations_with_replacement, permutations"
   ]
  },
  {
   "cell_type": "code",
   "execution_count": null,
   "metadata": {},
   "outputs": [],
   "source": [
    "# ((x, y) for x in A for y in B)\n",
    "product_test = product([1, 2], [4, 5], [7, 8])\n",
    "for x in product_test:\n",
    "    print(x)"
   ]
  },
  {
   "cell_type": "code",
   "execution_count": null,
   "metadata": {},
   "outputs": [],
   "source": [
    "# 不重複組合\n",
    "combinations_test = combinations([1, 2, 3, 4, 5], 2)\n",
    "for x in combinations_test:\n",
    "    print(x)"
   ]
  },
  {
   "cell_type": "code",
   "execution_count": null,
   "metadata": {},
   "outputs": [],
   "source": [
    "# 包含自身的不重複組合\n",
    "combinations_wr_test = combinations_with_replacement([1, 2, 3, 4], 2)\n",
    "for x in combinations_wr_test:\n",
    "    print(x)"
   ]
  },
  {
   "cell_type": "code",
   "execution_count": null,
   "metadata": {},
   "outputs": [],
   "source": [
    "# 排列\n",
    "permutations_test = permutations([1, 2, 3], 2)\n",
    "for x in permutations_test:\n",
    "    print(x)"
   ]
  },
  {
   "cell_type": "code",
   "execution_count": null,
   "metadata": {},
   "outputs": [],
   "source": [
    "# zip\n",
    "zip_test = zip([\"1\", \"2\", \"3\", \"4\", \"5\"], [\"a\", \"b\", \"c\"])\n",
    "for x in zip_test:\n",
    "    print(x)"
   ]
  },
  {
   "cell_type": "code",
   "execution_count": null,
   "metadata": {},
   "outputs": [],
   "source": []
  },
  {
   "cell_type": "markdown",
   "metadata": {},
   "source": [
    "# collections"
   ]
  },
  {
   "cell_type": "markdown",
   "metadata": {},
   "source": [
    "### namedtuple"
   ]
  },
  {
   "cell_type": "code",
   "execution_count": null,
   "metadata": {},
   "outputs": [],
   "source": [
    "# namedtuple ：簡單來說是個可以建立 immutable class 的函式\n",
    "# namedtuple 繼承自 tuple \n",
    "# 所建立的物件同時具備 tuple 透過 index 取值，以及透過 .{attribute} 取屬性的功能\n",
    "from collections import namedtuple\n",
    "print(\"namedtuple\".center(30, \"=\"))\n",
    "Person = namedtuple(\"Person\", [\"name\", \"age\", \"gender\"])\n",
    "p1 = Person(\"Natasha\", 26, \"F\")\n",
    "p2 = Person(name=\"Timothy\", gender=\"M\", age=28)\n",
    "print(\"_fields: {}\".format(Person._fields))\n",
    "print(type(p1))\n",
    "print(p1, p2, sep='\\n')\n",
    "p1.age"
   ]
  },
  {
   "cell_type": "markdown",
   "metadata": {},
   "source": [
    "### orderdict"
   ]
  },
  {
   "cell_type": "code",
   "execution_count": null,
   "metadata": {},
   "outputs": [],
   "source": [
    "# orderdict\n",
    "from collections import OrderedDict\n",
    "print(\"OrderedDict\".center(30, \"=\"))\n",
    "dict_test = {'type': 'admin', \n",
    "             'codeID': '00001', \n",
    "             'data': '888'}\n",
    "\n",
    "print(OrderedDict(sorted(dict_test.items(), key=lambda x: x[0])).items())\n",
    "print(OrderedDict(dict_test.items()).items(), sep='\\n')"
   ]
  },
  {
   "cell_type": "code",
   "execution_count": null,
   "metadata": {},
   "outputs": [],
   "source": [
    "# namedtuple 也可以轉成 orderDict 喔\n",
    "print(p1._asdict())"
   ]
  },
  {
   "cell_type": "markdown",
   "metadata": {},
   "source": [
    "### defaultdict"
   ]
  },
  {
   "cell_type": "code",
   "execution_count": null,
   "metadata": {},
   "outputs": [],
   "source": [
    "# defaultdict\n",
    "from collections import defaultdict\n",
    "print(\"defaultdict\".center(30, \"=\"))\n",
    "new_dict = defaultdict(list)\n",
    "for v, k in enumerate([\"a\", \"b\", \"c\", \"a\", \"a\", \"c\", \"b\"]):\n",
    "    new_dict[k].append(v)\n",
    "print(new_dict.items())\n",
    "print(new_dict[\"a\"])\n",
    "print(new_dict[\"k\"])"
   ]
  },
  {
   "cell_type": "markdown",
   "metadata": {},
   "source": [
    "### ChainMap"
   ]
  },
  {
   "cell_type": "code",
   "execution_count": null,
   "metadata": {},
   "outputs": [],
   "source": [
    "# ChainMap ： 做到類似 dictionary 的 update 功能\n",
    "from collections import ChainMap\n",
    "print(\"ChainMap\".center(30, \"=\"))\n",
    "map1 = {'Type': 'admin', 'codeID': '00001'}\n",
    "map2 = {'name': 'woodname','codeID': '00002'}\n",
    "map_test = ChainMap(map1, map2) # map2 --> map1 \n",
    "print([x for x in map_test.items()])\n",
    "\n",
    "map3 = {'data': '888'}\n",
    "map_test = map_test.new_child(map3) # map2 --> map1 --> map3\n",
    "print([x for x in map_test.items()])\n",
    "print(map_test)\n",
    "print(map_test.parents)\n",
    "print(map_test.parents.parents, end='\\n\\n')"
   ]
  },
  {
   "cell_type": "markdown",
   "metadata": {},
   "source": [
    "### Counter"
   ]
  },
  {
   "cell_type": "code",
   "execution_count": null,
   "metadata": {},
   "outputs": [],
   "source": [
    "# Counter\n",
    "from collections import Counter\n",
    "counter_test = Counter('aabbabcdeaabdsbeedabsddaebdbssadeaddbabdsdabebadbs')\n",
    "print(counter_test.items())\n",
    "print(counter_test.most_common(3))"
   ]
  },
  {
   "cell_type": "code",
   "execution_count": null,
   "metadata": {},
   "outputs": [],
   "source": [
    "new_counter = Counter('aabbabcbsbdjbdbedbasbdbcbadbasdbsdedafasbsdb')\n",
    "print(\"new_counter\".center(30, \"-\"))\n",
    "print(new_counter.items())\n",
    "\n",
    "counter_test.update(new_counter)\n",
    "print(\"update counter\".center(30, \"-\"))\n",
    "print(counter_test.items())"
   ]
  },
  {
   "cell_type": "markdown",
   "metadata": {},
   "source": [
    "### deque"
   ]
  },
  {
   "cell_type": "code",
   "execution_count": null,
   "metadata": {},
   "outputs": [],
   "source": [
    "# deque 雙向佇列\n",
    "from collections import deque\n",
    "queue = deque([\"a\", \"b\", \"c\", \"d\"])\n",
    "print(\"deque\".center(30, \"=\"), end='\\n')\n",
    "print(queue)"
   ]
  },
  {
   "cell_type": "code",
   "execution_count": null,
   "metadata": {},
   "outputs": [],
   "source": [
    "print(\"dequeue from left: popleft\".center(40, \"-\"))\n",
    "data = queue.popleft()\n",
    "print(queue, end='\\n\\n')\n",
    "print(\"enqueue from left: appendleft\".center(40, \"-\"))\n",
    "queue.appendleft(data)\n",
    "print(queue, end='\\n\\n')"
   ]
  },
  {
   "cell_type": "code",
   "execution_count": null,
   "metadata": {},
   "outputs": [],
   "source": [
    "print(\"dequeue from right: pop\".center(40, \"-\"))\n",
    "data = queue.pop()\n",
    "print(queue, end='\\n\\n')\n",
    "print(\"enqueue from right: append\".center(40, \"-\"))\n",
    "queue.append(data)\n",
    "print(queue)"
   ]
  },
  {
   "cell_type": "code",
   "execution_count": null,
   "metadata": {},
   "outputs": [],
   "source": []
  },
  {
   "cell_type": "markdown",
   "metadata": {},
   "source": [
    "# argparse"
   ]
  },
  {
   "cell_type": "code",
   "execution_count": null,
   "metadata": {},
   "outputs": [],
   "source": [
    "from argparse import ArgumentParser"
   ]
  },
  {
   "cell_type": "code",
   "execution_count": null,
   "metadata": {},
   "outputs": [],
   "source": [
    "parser = ArgumentParser()\n",
    "parser.add_argument('-g', \n",
    "                    '--group',\n",
    "                    help='Type of mail',\n",
    "                    dest='group',\n",
    "                    type=str,\n",
    "                    default='C0203000063')\n",
    "# 縮寫\n",
    "# 全文\n",
    "# help : 訊息，當呼叫 -h 的時候會 show 出來\n",
    "# dest : 會存到對應的屬性名稱\n",
    "# type : 此 arg 的型態\n",
    "# default : 預設值"
   ]
  },
  {
   "cell_type": "code",
   "execution_count": null,
   "metadata": {},
   "outputs": [],
   "source": [
    "# 取得 args 物件\n",
    "args = parser.parse_args()\n",
    "args.group"
   ]
  },
  {
   "cell_type": "markdown",
   "metadata": {},
   "source": [
    "# 練習"
   ]
  },
  {
   "cell_type": "code",
   "execution_count": null,
   "metadata": {},
   "outputs": [],
   "source": [
    "# 寫一個專門壓縮檔案的 .py 檔\n",
    "# 第一個參數是要壓縮的檔案 \n",
    "# 第二個參數是壓縮後的檔名\n",
    "# 第三個參數可有可無，為是否覆寫\n",
    "# 若檔案已存在則用添加的方式寫入，除非第三個參數為要覆寫\n",
    "\n",
    "# argv 寫法\n",
    "\n",
    "\n",
    "# argparse 寫法"
   ]
  }
 ],
 "metadata": {
  "kernelspec": {
   "display_name": "Python 3",
   "language": "python",
   "name": "python3"
  },
  "language_info": {
   "codemirror_mode": {
    "name": "ipython",
    "version": 3
   },
   "file_extension": ".py",
   "mimetype": "text/x-python",
   "name": "python",
   "nbconvert_exporter": "python",
   "pygments_lexer": "ipython3",
   "version": "3.7.3"
  },
  "toc": {
   "base_numbering": 1,
   "nav_menu": {},
   "number_sections": true,
   "sideBar": true,
   "skip_h1_title": false,
   "title_cell": "Table of Contents",
   "title_sidebar": "Contents",
   "toc_cell": false,
   "toc_position": {},
   "toc_section_display": true,
   "toc_window_display": true
  },
  "varInspector": {
   "cols": {
    "lenName": 16,
    "lenType": 16,
    "lenVar": 40
   },
   "kernels_config": {
    "python": {
     "delete_cmd_postfix": "",
     "delete_cmd_prefix": "del ",
     "library": "var_list.py",
     "varRefreshCmd": "print(var_dic_list())"
    },
    "r": {
     "delete_cmd_postfix": ") ",
     "delete_cmd_prefix": "rm(",
     "library": "var_list.r",
     "varRefreshCmd": "cat(var_dic_list()) "
    }
   },
   "types_to_exclude": [
    "module",
    "function",
    "builtin_function_or_method",
    "instance",
    "_Feature"
   ],
   "window_display": false
  }
 },
 "nbformat": 4,
 "nbformat_minor": 2
}
