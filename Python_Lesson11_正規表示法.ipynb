{
 "cells": [
  {
   "cell_type": "markdown",
   "metadata": {},
   "source": [
    "```\n",
    "%s：是字串\n",
    "%f：是浮點數\n",
    "%.2f：是浮點數四捨五入到小數點後第二位\n",
    "%d：整數\n",
    "%x：十六進位\n",
    "```"
   ]
  },
  {
   "cell_type": "code",
   "execution_count": null,
   "metadata": {},
   "outputs": [],
   "source": [
    "print(\"%s\" % 'abc')\n",
    "print(\"%f\" % 3.1415926)\n",
    "print(\"%.2f\" % 3.1415926)\n",
    "print(\"%d\" % 16)\n",
    "print(\"%x\" % 16)"
   ]
  },
  {
   "cell_type": "markdown",
   "metadata": {
    "ExecuteTime": {
     "end_time": "2021-03-27T05:19:06.824166Z",
     "start_time": "2021-03-27T05:19:06.816903Z"
    }
   },
   "source": [
    "# Python Regular Expression 套件\n",
    "## re"
   ]
  },
  {
   "cell_type": "code",
   "execution_count": null,
   "metadata": {},
   "outputs": [],
   "source": [
    "import re"
   ]
  },
  {
   "cell_type": "code",
   "execution_count": null,
   "metadata": {
    "ExecuteTime": {
     "end_time": "2021-03-27T07:41:57.984909Z",
     "start_time": "2021-03-27T07:41:57.978250Z"
    }
   },
   "outputs": [],
   "source": [
    "import re\n",
    "print('re.findall(\"\\d\", \"1,2,3,4,55\") >>>', re.findall(\"\\d\", \"1,2,3,4,55\"), end='\\n\\n')\n",
    "\n",
    "print('re.finditer(\"\\d\", \"1,2,3,4,5\") >>>', re.finditer(\"\\d\", \"1,2,3,4,5\"), end='\\n\\n')\n",
    "\n",
    "print('re.sub(\"\\d\", \"zzz\", \"1,2,3,4,5\") >>>', re.sub(\"\\d\", \"zzz\", \"1,2,3,4,5\"), end='\\n\\n')\n",
    "\n",
    "print('re.split(\"\\d,\", \",1,2,3,4,5\") >>>', re.split(\"\\d,\", \",1,2,3,4,5\"), end='\\n\\n')\n",
    "\n",
    "print('re.match(\"\\d\", \",1,2,3,4,5\").group() >>>', re.match(\"\\d\", \"1,2,3,4,5\").group(), end='\\n\\n')\n",
    "\n",
    "print('re.compile(\"[\\d,]*\") >>>', re.compile(\"[\\d,]*\"), end='\\n\\n')\n",
    "\n",
    "print('re.fullmatch(re.compile(\"[\\d,]*\"), \",1,2,3,4,5\").group() >>>', re.fullmatch(re.compile(\"[\\d,]*\"), \"1,2,3,4,5\").group())\n",
    "\n"
   ]
  },
  {
   "cell_type": "markdown",
   "metadata": {},
   "source": [
    "# 練習"
   ]
  },
  {
   "cell_type": "code",
   "execution_count": null,
   "metadata": {},
   "outputs": [],
   "source": [
    "# 字串處理練習\n",
    "mails = [\"abcn123@yahoo.com.tw\", \"wooddn226@hotmail.com\", \"kkzaa568@gmail.com\"]\n",
    "# 透過字串處理及取值方法並打印出\n",
    "# 各自信箱的來源\n",
    "# yahoo\n",
    "# hotmail\n",
    "# gmail"
   ]
  },
  {
   "cell_type": "code",
   "execution_count": null,
   "metadata": {},
   "outputs": [],
   "source": []
  },
  {
   "cell_type": "code",
   "execution_count": null,
   "metadata": {},
   "outputs": [],
   "source": [
    "docs = \"\"\"上蓋顏色：黑色 \n",
    "處理器：Intel Core i7-10510U Processor ( 1.80GHz 8MB ) \n",
    "記憶體：16.0GB DDR4 SDRAM 2666 DDR4 SDRAM Onboard 2666MHz \n",
    "光碟機：NA \n",
    "硬碟機：512GB_SSD_M.2_2280_NVME_TLC_OP \n",
    "顯示晶片：Intel UHD 顯示卡 \n",
    "螢幕：13.3\"FHD, IPS, AntiGlare, LED Backlight, Non-Touch 1920x1080 \n",
    "音訊：Dolby Audio Premium®/降噪雙陣列遠場麥克風 \n",
    "網路攝影機：720p \n",
    "有線網路：無 \n",
    "無線網路：Intel Wi-Fi 6 AX201 2x2a \n",
    "藍芽：5.1 版 \n",
    "讀卡機：Y \n",
    "連接埠： \n",
    "2 x USB 3.1 Gen 1 \n",
    "2 x USB-C \n",
    "HDMI：1 x HDMI \n",
    "鍵盤：採用白色 LED 照明的背光功能 \n",
    "尺寸：311.5 公釐 x 219 公釐 x 17.6 公釐 \n",
    "重量：1.38kg \n",
    "作業系統：Windows 10 PRO \n",
    "電池：4 Cell 鋰聚合物電池 45Wh \n",
    "指紋辨識：Y \n",
    "快充：Y \n",
    "國際條碼 (EAN)：195477313408 \n",
    "保固：1年台灣保固\"\"\"\n",
    "\n",
    "# 將文章內的數字全部替代成 '$'\n",
    "\n",
    "# 找出文章內最長的數字串,包含整數跟小數"
   ]
  },
  {
   "cell_type": "code",
   "execution_count": null,
   "metadata": {},
   "outputs": [],
   "source": []
  },
  {
   "cell_type": "markdown",
   "metadata": {},
   "source": [
    "# Bonus"
   ]
  },
  {
   "cell_type": "markdown",
   "metadata": {},
   "source": [
    "## Debug"
   ]
  },
  {
   "cell_type": "code",
   "execution_count": null,
   "metadata": {},
   "outputs": [],
   "source": [
    "# index out of range\n",
    "[1, 2, 3][3]"
   ]
  },
  {
   "cell_type": "code",
   "execution_count": null,
   "metadata": {},
   "outputs": [],
   "source": [
    "# object is not callable\n",
    "a = 2\n",
    "max([1, 2, 3])"
   ]
  },
  {
   "cell_type": "code",
   "execution_count": null,
   "metadata": {},
   "outputs": [],
   "source": [
    "# name ' ' is not defined\n"
   ]
  },
  {
   "cell_type": "code",
   "execution_count": null,
   "metadata": {},
   "outputs": [],
   "source": []
  }
 ],
 "metadata": {
  "kernelspec": {
   "display_name": "Python 3",
   "language": "python",
   "name": "python3"
  },
  "language_info": {
   "codemirror_mode": {
    "name": "ipython",
    "version": 3
   },
   "file_extension": ".py",
   "mimetype": "text/x-python",
   "name": "python",
   "nbconvert_exporter": "python",
   "pygments_lexer": "ipython3",
   "version": "3.7.3"
  },
  "toc": {
   "base_numbering": 1,
   "nav_menu": {},
   "number_sections": true,
   "sideBar": true,
   "skip_h1_title": false,
   "title_cell": "Table of Contents",
   "title_sidebar": "Contents",
   "toc_cell": false,
   "toc_position": {},
   "toc_section_display": true,
   "toc_window_display": false
  },
  "varInspector": {
   "cols": {
    "lenName": 16,
    "lenType": 16,
    "lenVar": 40
   },
   "kernels_config": {
    "python": {
     "delete_cmd_postfix": "",
     "delete_cmd_prefix": "del ",
     "library": "var_list.py",
     "varRefreshCmd": "print(var_dic_list())"
    },
    "r": {
     "delete_cmd_postfix": ") ",
     "delete_cmd_prefix": "rm(",
     "library": "var_list.r",
     "varRefreshCmd": "cat(var_dic_list()) "
    }
   },
   "types_to_exclude": [
    "module",
    "function",
    "builtin_function_or_method",
    "instance",
    "_Feature"
   ],
   "window_display": false
  }
 },
 "nbformat": 4,
 "nbformat_minor": 2
}
