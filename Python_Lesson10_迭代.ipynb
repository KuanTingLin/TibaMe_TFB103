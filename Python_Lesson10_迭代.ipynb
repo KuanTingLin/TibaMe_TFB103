{
 "cells": [
  {
   "cell_type": "markdown",
   "metadata": {},
   "source": [
    "# 迭代"
   ]
  },
  {
   "cell_type": "markdown",
   "metadata": {},
   "source": [
    "> ### iteration = 迭代的動作\n",
    "> ### iterable = 可迭代的物件，可以被 forloop 拜訪的對象：eg. list, string, dict, iterator\n",
    "> ### iterator = 迭代器，可以使用 next 訪問下一個元素的對象\n",
    "> ### generator = 特別的迭代器，在呼叫 next 才計算的 iterator，會暫停及保留涵式狀態"
   ]
  },
  {
   "cell_type": "code",
   "execution_count": null,
   "metadata": {},
   "outputs": [],
   "source": [
    "from collections.abc import Iterator, Iterable, Generator\n",
    "\n",
    "print(\"range is Generator?\", isinstance(range(1, 10), Generator))\n",
    "print(\"range is Iterator?\", isinstance(range(1, 10), Iterator))\n",
    "print(\"range is Iterable?\", isinstance(range(1, 10), Iterable))\n",
    "\n",
    "print(\"list is Generator?\", isinstance([1,2,3], Generator))\n",
    "print(\"list is Iterator?\", isinstance([1,2,3], Iterator))\n",
    "print(\"list is Iterable?\", isinstance([1,2,3], Iterable))"
   ]
  },
  {
   "cell_type": "markdown",
   "metadata": {},
   "source": [
    "## 重要函數\n",
    "* dir\n",
    "* next\n",
    "* iter"
   ]
  },
  {
   "cell_type": "markdown",
   "metadata": {},
   "source": [
    "## iterable\n",
    "```\n",
    "定義了 __iter__ 即為 iterable\n",
    "__iter__ 會回傳 iterator 物件\n",
    "```"
   ]
  },
  {
   "cell_type": "code",
   "execution_count": null,
   "metadata": {},
   "outputs": [],
   "source": [
    "# iterable\n",
    "class MyIterable:\n",
    "    def __init__(self, a):\n",
    "        self.a = a\n",
    "        \n",
    "    def __iter__(self):\n",
    "        for el in self.a:\n",
    "            yield el\n",
    "\n",
    "isinstance(MyIterable(1), Iterable)"
   ]
  },
  {
   "cell_type": "markdown",
   "metadata": {},
   "source": [
    "## iterator\n",
    "```\n",
    "定義了 __next__ 即為 iterator\n",
    "也可透過 iter() 做轉換\n",
    "```"
   ]
  },
  {
   "cell_type": "code",
   "execution_count": null,
   "metadata": {},
   "outputs": [],
   "source": [
    "# Iterator\n",
    "iterator = iter([1,2,3,4])\n",
    "next(iterator)"
   ]
  },
  {
   "cell_type": "code",
   "execution_count": null,
   "metadata": {},
   "outputs": [],
   "source": [
    "class Counter:\n",
    "    def __init__(self):\n",
    "        self.i = 0\n",
    "        \n",
    "    def __next__(self):\n",
    "        self.i += 1\n",
    "        return self.i\n",
    "    \n",
    "    def __iter__(self):\n",
    "        return self\n",
    "\n",
    "isinstance(Counter(), Iterator)"
   ]
  },
  {
   "cell_type": "markdown",
   "metadata": {},
   "source": [
    "## Generator\n",
    "```\n",
    "\n",
    "使用 yield 不須定義 __next__\n",
    "list comperhension 用小括號，產生的是generator\n",
    "```"
   ]
  },
  {
   "cell_type": "code",
   "execution_count": null,
   "metadata": {},
   "outputs": [],
   "source": [
    "# Generator\n",
    "# 使用 yield 不須定義 __next__\n",
    "# list comperhension 用小括號的話 出來的是generator\n",
    "(x for x in range(10))"
   ]
  },
  {
   "cell_type": "code",
   "execution_count": null,
   "metadata": {},
   "outputs": [],
   "source": [
    "def count(start, step):\n",
    "    while True:\n",
    "        yield start\n",
    "        start += step\n",
    "generator = count(1, 3)\n",
    "generator"
   ]
  },
  {
   "cell_type": "code",
   "execution_count": null,
   "metadata": {},
   "outputs": [],
   "source": [
    "print(next(generator))\n",
    "print(next(generator))\n",
    "print(next(generator))"
   ]
  },
  {
   "cell_type": "markdown",
   "metadata": {},
   "source": [
    "## enumerate"
   ]
  },
  {
   "cell_type": "code",
   "execution_count": null,
   "metadata": {},
   "outputs": [],
   "source": [
    "# Enumerate: 放一個iterable物件在enumerate中\n",
    "# use case:遍歷一個List有時既要索引又要元素時， 我們可以這樣寫\n",
    "for index, value in enumerate([6, 7, 8, 9, 10]):\n",
    "    print(index, value)"
   ]
  },
  {
   "cell_type": "code",
   "execution_count": null,
   "metadata": {},
   "outputs": [],
   "source": [
    "isinstance(enumerate([1, 2, 3, 4]), Iterator)"
   ]
  },
  {
   "cell_type": "code",
   "execution_count": null,
   "metadata": {},
   "outputs": [],
   "source": [
    "for x in enumerate({1, 3, 4, 2}):\n",
    "    print(x)"
   ]
  },
  {
   "cell_type": "code",
   "execution_count": null,
   "metadata": {},
   "outputs": [],
   "source": []
  },
  {
   "cell_type": "markdown",
   "metadata": {},
   "source": [
    "# 練習"
   ]
  },
  {
   "cell_type": "code",
   "execution_count": null,
   "metadata": {},
   "outputs": [],
   "source": []
  }
 ],
 "metadata": {
  "kernelspec": {
   "display_name": "Python 3",
   "language": "python",
   "name": "python3"
  },
  "language_info": {
   "codemirror_mode": {
    "name": "ipython",
    "version": 3
   },
   "file_extension": ".py",
   "mimetype": "text/x-python",
   "name": "python",
   "nbconvert_exporter": "python",
   "pygments_lexer": "ipython3",
   "version": "3.7.3"
  },
  "toc": {
   "base_numbering": 1,
   "nav_menu": {},
   "number_sections": true,
   "sideBar": true,
   "skip_h1_title": false,
   "title_cell": "Table of Contents",
   "title_sidebar": "Contents",
   "toc_cell": false,
   "toc_position": {},
   "toc_section_display": true,
   "toc_window_display": false
  },
  "varInspector": {
   "cols": {
    "lenName": 16,
    "lenType": 16,
    "lenVar": 40
   },
   "kernels_config": {
    "python": {
     "delete_cmd_postfix": "",
     "delete_cmd_prefix": "del ",
     "library": "var_list.py",
     "varRefreshCmd": "print(var_dic_list())"
    },
    "r": {
     "delete_cmd_postfix": ") ",
     "delete_cmd_prefix": "rm(",
     "library": "var_list.r",
     "varRefreshCmd": "cat(var_dic_list()) "
    }
   },
   "types_to_exclude": [
    "module",
    "function",
    "builtin_function_or_method",
    "instance",
    "_Feature"
   ],
   "window_display": false
  }
 },
 "nbformat": 4,
 "nbformat_minor": 2
}
