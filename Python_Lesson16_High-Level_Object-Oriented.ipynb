{
 "cells": [
  {
   "cell_type": "markdown",
   "metadata": {
    "ExecuteTime": {
     "end_time": "2021-03-27T03:51:33.786419Z",
     "start_time": "2021-03-27T03:51:33.783774Z"
    }
   },
   "source": [
    "# 物件導向"
   ]
  },
  {
   "cell_type": "code",
   "execution_count": null,
   "metadata": {
    "ExecuteTime": {
     "end_time": "2021-04-22T10:12:24.793150Z",
     "start_time": "2021-04-22T10:12:24.789102Z"
    }
   },
   "outputs": [],
   "source": []
  },
  {
   "cell_type": "code",
   "execution_count": null,
   "metadata": {},
   "outputs": [],
   "source": []
  },
  {
   "cell_type": "code",
   "execution_count": null,
   "metadata": {},
   "outputs": [],
   "source": []
  },
  {
   "cell_type": "markdown",
   "metadata": {},
   "source": [
    "## 封裝(encapsulation)"
   ]
  },
  {
   "cell_type": "markdown",
   "metadata": {},
   "source": [
    "### __"
   ]
  },
  {
   "cell_type": "code",
   "execution_count": null,
   "metadata": {
    "ExecuteTime": {
     "end_time": "2021-04-22T10:14:57.743406Z",
     "start_time": "2021-04-22T10:14:57.740795Z"
    }
   },
   "outputs": [],
   "source": [
    "# __xxx 無法被使用，無法被修改\n",
    "class Cat:\n",
    "    def __init__(self, name):\n",
    "        self.__name = name\n",
    "    \n",
    "    def name(self):\n",
    "        return self.__name"
   ]
  },
  {
   "cell_type": "code",
   "execution_count": null,
   "metadata": {
    "ExecuteTime": {
     "end_time": "2021-04-22T10:15:04.306133Z",
     "start_time": "2021-04-22T10:15:04.301012Z"
    }
   },
   "outputs": [],
   "source": [
    "cat = Cat(\"黑貓\")\n",
    "cat.name()"
   ]
  },
  {
   "cell_type": "markdown",
   "metadata": {},
   "source": [
    "### 接口"
   ]
  },
  {
   "cell_type": "code",
   "execution_count": null,
   "metadata": {
    "ExecuteTime": {
     "end_time": "2021-04-02T10:21:46.212203Z",
     "start_time": "2021-04-02T10:21:46.209072Z"
    }
   },
   "outputs": [],
   "source": [
    "# 開一個接口\n",
    "\n",
    "class Cat:\n",
    "    def __init__(self, name):\n",
    "        self.__name = name\n",
    "        \n",
    "    def name(self):\n",
    "        return self.__name"
   ]
  },
  {
   "cell_type": "code",
   "execution_count": null,
   "metadata": {
    "ExecuteTime": {
     "end_time": "2021-04-02T10:29:00.970631Z",
     "start_time": "2021-04-02T10:29:00.967006Z"
    }
   },
   "outputs": [],
   "source": [
    "cat = Cat(\"黑貓\")\n",
    "cat.name()"
   ]
  },
  {
   "cell_type": "markdown",
   "metadata": {},
   "source": [
    "### getter & setter"
   ]
  },
  {
   "cell_type": "code",
   "execution_count": null,
   "metadata": {
    "ExecuteTime": {
     "end_time": "2021-04-22T10:16:53.145447Z",
     "start_time": "2021-04-22T10:16:53.141534Z"
    }
   },
   "outputs": [],
   "source": [
    "# getter & setter\n",
    "\n",
    "class Cat:\n",
    "    def __init__(self, name):\n",
    "        self.__name = name\n",
    "        \n",
    "    def name(self):\n",
    "        return self.__name\n",
    "    \n",
    "    def set_name(self, name):\n",
    "        if type(name) == str:\n",
    "            self.__name = name\n",
    "            return self.__name\n",
    "        else:\n",
    "            return \"string only\""
   ]
  },
  {
   "cell_type": "code",
   "execution_count": null,
   "metadata": {
    "ExecuteTime": {
     "end_time": "2021-04-22T10:16:58.829298Z",
     "start_time": "2021-04-22T10:16:58.824866Z"
    }
   },
   "outputs": [],
   "source": [
    "cat = Cat(\"黑貓\")\n",
    "print(cat.set_name(111))\n",
    "cat.name()"
   ]
  },
  {
   "cell_type": "markdown",
   "metadata": {},
   "source": [
    "### property"
   ]
  },
  {
   "cell_type": "code",
   "execution_count": null,
   "metadata": {
    "ExecuteTime": {
     "end_time": "2021-04-22T10:18:15.428353Z",
     "start_time": "2021-04-22T10:18:15.424402Z"
    }
   },
   "outputs": [],
   "source": [
    "# property\n",
    "class Cat:\n",
    "    def __init__(self, name):\n",
    "        self.__name = name\n",
    "        \n",
    "    @property\n",
    "    def name(self):\n",
    "        return self.__name"
   ]
  },
  {
   "cell_type": "code",
   "execution_count": null,
   "metadata": {
    "ExecuteTime": {
     "end_time": "2021-04-22T10:18:35.889000Z",
     "start_time": "2021-04-22T10:18:35.882125Z"
    }
   },
   "outputs": [],
   "source": [
    "cat = Cat(\"黑貓\")\n",
    "cat.name = \"白色\""
   ]
  },
  {
   "cell_type": "markdown",
   "metadata": {},
   "source": [
    "### property.setter"
   ]
  },
  {
   "cell_type": "code",
   "execution_count": null,
   "metadata": {
    "ExecuteTime": {
     "end_time": "2021-04-22T10:19:53.838297Z",
     "start_time": "2021-04-22T10:19:53.834731Z"
    }
   },
   "outputs": [],
   "source": [
    "# property\n",
    "class Cat:\n",
    "    def __init__(self, name):\n",
    "        self.__name = name\n",
    "        \n",
    "    @property\n",
    "    def name(self):\n",
    "        return self.__name\n",
    "    \n",
    "    @name.setter\n",
    "    def name(self, name):\n",
    "        self.__name = name\n",
    "        return None"
   ]
  },
  {
   "cell_type": "code",
   "execution_count": null,
   "metadata": {
    "ExecuteTime": {
     "end_time": "2021-04-22T10:21:33.835362Z",
     "start_time": "2021-04-22T10:21:33.831821Z"
    }
   },
   "outputs": [],
   "source": [
    "cat = Cat(\"黑貓\")\n",
    "cat.name = \"白貓\"\n",
    "cat."
   ]
  },
  {
   "cell_type": "code",
   "execution_count": null,
   "metadata": {
    "ExecuteTime": {
     "end_time": "2021-04-22T10:22:59.802866Z",
     "start_time": "2021-04-22T10:22:59.799891Z"
    }
   },
   "outputs": [],
   "source": [
    "cat.name"
   ]
  },
  {
   "cell_type": "code",
   "execution_count": null,
   "metadata": {
    "ExecuteTime": {
     "end_time": "2021-04-02T13:36:39.259093Z",
     "start_time": "2021-04-02T13:36:39.255225Z"
    }
   },
   "outputs": [],
   "source": [
    "[x for x in dir(cat) if x.startswith(\"_Cat\")]"
   ]
  },
  {
   "cell_type": "markdown",
   "metadata": {
    "ExecuteTime": {
     "end_time": "2021-04-02T12:32:41.128653Z",
     "start_time": "2021-04-02T12:32:41.126662Z"
    }
   },
   "source": [
    "## 繼承(inheritance)"
   ]
  },
  {
   "cell_type": "code",
   "execution_count": null,
   "metadata": {
    "ExecuteTime": {
     "end_time": "2021-04-22T10:35:38.367052Z",
     "start_time": "2021-04-22T10:35:38.360436Z"
    }
   },
   "outputs": [],
   "source": [
    "class Book:\n",
    "    def __init__(self, name, author, publication_date, pages):\n",
    "        self.__name = name\n",
    "        self.__author = author\n",
    "        self.__publication_date = publication_date\n",
    "        self.__pages = pages\n",
    "        self.__bookmark = 1\n",
    "    \n",
    "    @property\n",
    "    def name(self):\n",
    "        return self.__name\n",
    "    \n",
    "    @property\n",
    "    def author(self):\n",
    "        return self.__author\n",
    "    \n",
    "    @property\n",
    "    def publication_date(self):\n",
    "        return self.__publication_date\n",
    "    \n",
    "    @property\n",
    "    def pages(self):\n",
    "        return self.__pages\n",
    "    \n",
    "    @property\n",
    "    def bookmark(self):\n",
    "        return self.__bookmark\n",
    "\n",
    "    @bookmark.setter\n",
    "    def bookmark(self, page):\n",
    "        if page > self.__pages:\n",
    "            return \"No such page.\"\n",
    "        else:\n",
    "            self.__bookmark = page\n",
    "            return \"Turn to page {}\".format(page)\n",
    "        \n",
    "    def read(self, pages):\n",
    "        if (self.bookmark + pages) > self.pages:\n",
    "            self.bookmark = self.pages\n",
    "        self.bookmark += pages\n",
    "        return self.bookmark"
   ]
  },
  {
   "cell_type": "code",
   "execution_count": null,
   "metadata": {
    "ExecuteTime": {
     "end_time": "2021-04-22T10:35:39.666860Z",
     "start_time": "2021-04-22T10:35:39.661165Z"
    }
   },
   "outputs": [],
   "source": [
    "class Novel(Book):\n",
    "    def __init__(self, name, author, publication_date, pages, place, genre):\n",
    "        super().__init__(name, author, publication_date, pages)\n",
    "        self.__place = place\n",
    "        self.__genre = genre\n",
    "    \n",
    "    @property\n",
    "    def place(self):\n",
    "        return self.__place\n",
    "    \n",
    "    @property\n",
    "    def genre(self):\n",
    "        return self.__genre\n",
    "    \n",
    "    def detail(self):\n",
    "        details = \"\"\"\n",
    "        書名 = {}\n",
    "        作者 = {}\n",
    "        出版日期 = {}\n",
    "        總頁數 = {}\n",
    "        出版地點 = {}\n",
    "        類型 = {}\n",
    "        \"\"\".format(self.name, \n",
    "                   self.author, \n",
    "                   self.publication_date, \n",
    "                   self.pages, \n",
    "                   self.place, \n",
    "                   self.genre)\n",
    "        return details"
   ]
  },
  {
   "cell_type": "code",
   "execution_count": null,
   "metadata": {
    "ExecuteTime": {
     "end_time": "2021-04-22T10:37:10.618689Z",
     "start_time": "2021-04-22T10:37:10.614838Z"
    }
   },
   "outputs": [],
   "source": [
    "pandora = Novel(\"潘朵拉\", \"Timothy\", \"2019/01/01\", 100, \"台北\", \"magic\")\n",
    "# print(pandora.name)\n",
    "print(pandora.detail())"
   ]
  },
  {
   "cell_type": "markdown",
   "metadata": {},
   "source": [
    "## 抽象類別(abstract class)"
   ]
  },
  {
   "cell_type": "code",
   "execution_count": null,
   "metadata": {
    "ExecuteTime": {
     "end_time": "2021-04-22T10:52:23.621180Z",
     "start_time": "2021-04-22T10:52:23.615066Z"
    }
   },
   "outputs": [],
   "source": [
    "import abc\n",
    "class Book(abc.ABC):\n",
    "    def __init__(self, name, author, publication_date, pages):\n",
    "        self.__name = name\n",
    "        self.__author = author\n",
    "        self.__publication_date = publication_date\n",
    "        self.__pages = pages\n",
    "        self.__bookmark = 1\n",
    "\n",
    "    @abc.abstractmethod\n",
    "    def detail():\n",
    "        \"\"\"\n",
    "        output book's metadata\n",
    "        \"\"\"\n",
    "    \n",
    "    @property\n",
    "    def name(self):\n",
    "        return self.__name\n",
    "    \n",
    "    @property\n",
    "    def author(self):\n",
    "        return self.__author\n",
    "    \n",
    "    @property\n",
    "    def publication_date(self):\n",
    "        return self.__publication_date\n",
    "    \n",
    "    @property\n",
    "    def pages(self):\n",
    "        return self.__pages\n",
    "    \n",
    "    @property\n",
    "    def bookmark(self):\n",
    "        return self.__bookmark\n",
    "\n",
    "    @bookmark.setter\n",
    "    def bookmark(self, page):\n",
    "        self.__bookmark = page"
   ]
  },
  {
   "cell_type": "code",
   "execution_count": null,
   "metadata": {
    "ExecuteTime": {
     "end_time": "2021-04-22T10:52:33.385640Z",
     "start_time": "2021-04-22T10:52:33.379203Z"
    },
    "code_folding": []
   },
   "outputs": [],
   "source": [
    "class Novel(Book):\n",
    "    def __init__(self, name, author, publication_date, pages, place, genre):\n",
    "        super().__init__(name, author, publication_date, pages)\n",
    "        self.__place = place\n",
    "        self.__genre = genre\n",
    "    \n",
    "    @property\n",
    "    def place(self):\n",
    "        return self.__place\n",
    "    \n",
    "    @property\n",
    "    def genre(self):\n",
    "        return self.__genre\n",
    "    \n",
    "    def detail(self):\n",
    "        details = \"\"\"\n",
    "        書名 = {}\n",
    "        作者 = {}\n",
    "        出版日期 = {}\n",
    "        總頁數 = {}\n",
    "        出版地點 = {}\n",
    "        類型 = {}\n",
    "        \"\"\".format(self.name, \n",
    "                   self.author, \n",
    "                   self.publication_date, \n",
    "                   self.pages, \n",
    "                   self.place, \n",
    "                   self.genre)\n",
    "        return details"
   ]
  },
  {
   "cell_type": "code",
   "execution_count": null,
   "metadata": {
    "ExecuteTime": {
     "end_time": "2021-04-22T10:52:35.553515Z",
     "start_time": "2021-04-22T10:52:35.550845Z"
    }
   },
   "outputs": [],
   "source": [
    "pandora = Novel(\"潘朵拉\", \"Timothy\", \"2019/01/01\", 100, \"台北\", \"magic\")"
   ]
  },
  {
   "cell_type": "markdown",
   "metadata": {
    "ExecuteTime": {
     "end_time": "2021-04-02T14:27:53.002167Z",
     "start_time": "2021-04-02T14:27:52.994141Z"
    }
   },
   "source": [
    "## polymorphism(多型)"
   ]
  },
  {
   "cell_type": "code",
   "execution_count": null,
   "metadata": {
    "ExecuteTime": {
     "end_time": "2021-04-22T10:53:35.021021Z",
     "start_time": "2021-04-22T10:53:35.014482Z"
    },
    "code_folding": []
   },
   "outputs": [],
   "source": [
    "class ComicBook(Book):\n",
    "    def __init__(self, name, author, publication_date, pages, place, genre, script=None):\n",
    "        super().__init__(name, author, publication_date, pages)\n",
    "        self.__place = place\n",
    "        self.__genre = genre\n",
    "        self.__script = script if script else author\n",
    "    \n",
    "    @property\n",
    "    def script(self):\n",
    "        return self.__script\n",
    "    \n",
    "    @property\n",
    "    def place(self):\n",
    "        return self.__place\n",
    "    \n",
    "    @property\n",
    "    def genre(self):\n",
    "        return self.__genre\n",
    "    \n",
    "    def detail(self):\n",
    "        details = \"\"\"\n",
    "        書名 = {}\n",
    "        作畫 = {}\n",
    "        劇本 = {}\n",
    "        出版日期 = {}\n",
    "        總頁數 = {}\n",
    "        出版地點 = {}\n",
    "        類型 = {}\n",
    "        \"\"\".format(self.name, \n",
    "                   self.author, \n",
    "                   self.script,\n",
    "                   self.publication_date, \n",
    "                   self.pages, \n",
    "                   self.place, \n",
    "                   self.genre)\n",
    "        return details"
   ]
  },
  {
   "cell_type": "code",
   "execution_count": null,
   "metadata": {
    "ExecuteTime": {
     "end_time": "2021-04-22T10:53:36.052165Z",
     "start_time": "2021-04-22T10:53:36.048336Z"
    }
   },
   "outputs": [],
   "source": [
    "pandora = Novel(\"潘朵拉\", \"Timothy\", \"2019/01/01\", 100, \"台北\", \"magic\")\n",
    "print(pandora.detail())\n",
    "\n",
    "hunter = ComicBook(\"獵人\", \"休刊魔王\", \"2019/01/01\", 100, \"台北\", \"magic\")\n",
    "print(hunter.detail())"
   ]
  },
  {
   "cell_type": "markdown",
   "metadata": {},
   "source": [
    "# Practices\n",
    "```\n",
    "[ 請透過 Pycharm ]\n",
    "將上個章節的動物類別改成 abstract class\n",
    "並透過該抽象類別建立三種以上的不同類別\n",
    "並各自實體化\n",
    "```  "
   ]
  },
  {
   "cell_type": "code",
   "execution_count": null,
   "metadata": {},
   "outputs": [],
   "source": []
  }
 ],
 "metadata": {
  "kernelspec": {
   "display_name": "Python 3",
   "language": "python",
   "name": "python3"
  },
  "language_info": {
   "codemirror_mode": {
    "name": "ipython",
    "version": 3
   },
   "file_extension": ".py",
   "mimetype": "text/x-python",
   "name": "python",
   "nbconvert_exporter": "python",
   "pygments_lexer": "ipython3",
   "version": "3.7.3"
  },
  "toc": {
   "base_numbering": 1,
   "nav_menu": {},
   "number_sections": true,
   "sideBar": true,
   "skip_h1_title": false,
   "title_cell": "Table of Contents",
   "title_sidebar": "Contents",
   "toc_cell": false,
   "toc_position": {},
   "toc_section_display": true,
   "toc_window_display": true
  },
  "varInspector": {
   "cols": {
    "lenName": 16,
    "lenType": 16,
    "lenVar": 40
   },
   "kernels_config": {
    "python": {
     "delete_cmd_postfix": "",
     "delete_cmd_prefix": "del ",
     "library": "var_list.py",
     "varRefreshCmd": "print(var_dic_list())"
    },
    "r": {
     "delete_cmd_postfix": ") ",
     "delete_cmd_prefix": "rm(",
     "library": "var_list.r",
     "varRefreshCmd": "cat(var_dic_list()) "
    }
   },
   "types_to_exclude": [
    "module",
    "function",
    "builtin_function_or_method",
    "instance",
    "_Feature"
   ],
   "window_display": false
  }
 },
 "nbformat": 4,
 "nbformat_minor": 2
}
