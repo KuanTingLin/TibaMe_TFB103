{
 "cells": [
  {
   "cell_type": "markdown",
   "metadata": {},
   "source": [
    "# Everything is an object.\n",
    "# Every object has a type.\n",
    "# Type and class are synonymous.\n"
   ]
  },
  {
   "cell_type": "markdown",
   "metadata": {},
   "source": [
    "## 重點函數\n",
    "```\n",
    "type: 判別變數型別\n",
    "dir: 檢驗物件的所有屬性跟方法\n",
    "```"
   ]
  },
  {
   "cell_type": "markdown",
   "metadata": {},
   "source": [
    "## 物件可以有自己的屬性跟方法"
   ]
  },
  {
   "cell_type": "code",
   "execution_count": null,
   "metadata": {
    "ExecuteTime": {
     "end_time": "2021-04-01T11:18:31.569125Z",
     "start_time": "2021-04-01T11:18:31.560368Z"
    }
   },
   "outputs": [],
   "source": [
    "a = 123\n",
    "type(a)"
   ]
  },
  {
   "cell_type": "code",
   "execution_count": null,
   "metadata": {
    "ExecuteTime": {
     "end_time": "2021-04-01T11:18:41.962800Z",
     "start_time": "2021-04-01T11:18:41.959233Z"
    }
   },
   "outputs": [],
   "source": [
    "name = \"cat\"\n",
    "name.upper()"
   ]
  },
  {
   "cell_type": "code",
   "execution_count": null,
   "metadata": {
    "ExecuteTime": {
     "end_time": "2021-04-01T11:18:56.755767Z",
     "start_time": "2021-04-01T11:18:56.751233Z"
    }
   },
   "outputs": [],
   "source": [
    "# 檢驗物件的所有屬性跟方法：\n",
    "dir(name)"
   ]
  },
  {
   "cell_type": "markdown",
   "metadata": {},
   "source": [
    "## 資料存在記憶體"
   ]
  },
  {
   "cell_type": "code",
   "execution_count": null,
   "metadata": {
    "ExecuteTime": {
     "end_time": "2021-03-31T14:31:52.975148Z",
     "start_time": "2021-03-31T14:31:52.971882Z"
    }
   },
   "outputs": [],
   "source": [
    "# 檢驗記憶體位置的函式：\n",
    "id # Return the identity of an object.\n",
    "hex # Return the hexadecimal representation of an integer."
   ]
  },
  {
   "cell_type": "code",
   "execution_count": null,
   "metadata": {
    "ExecuteTime": {
     "end_time": "2021-04-01T11:30:11.692081Z",
     "start_time": "2021-04-01T11:30:11.689272Z"
    }
   },
   "outputs": [],
   "source": [
    "x = 12345\n",
    "y = 12345"
   ]
  },
  {
   "cell_type": "code",
   "execution_count": null,
   "metadata": {
    "ExecuteTime": {
     "end_time": "2021-04-01T11:31:26.200362Z",
     "start_time": "2021-04-01T11:31:26.197994Z"
    }
   },
   "outputs": [],
   "source": [
    "x = 12345\n",
    "y = x"
   ]
  },
  {
   "cell_type": "code",
   "execution_count": null,
   "metadata": {
    "ExecuteTime": {
     "end_time": "2021-04-01T11:31:26.819514Z",
     "start_time": "2021-04-01T11:31:26.816302Z"
    }
   },
   "outputs": [],
   "source": [
    "print(\"id(x): \", id(x))\n",
    "print(\"id(y): \", id(y))"
   ]
  },
  {
   "cell_type": "code",
   "execution_count": null,
   "metadata": {
    "ExecuteTime": {
     "end_time": "2021-04-01T11:33:15.167430Z",
     "start_time": "2021-04-01T11:33:15.164084Z"
    }
   },
   "outputs": [],
   "source": [
    "# 轉成 16進位\n",
    "hex(id(x))"
   ]
  },
  {
   "cell_type": "markdown",
   "metadata": {},
   "source": [
    "## 特殊的賦值方式"
   ]
  },
  {
   "cell_type": "code",
   "execution_count": null,
   "metadata": {
    "ExecuteTime": {
     "end_time": "2021-04-01T11:33:53.462928Z",
     "start_time": "2021-04-01T11:33:53.460122Z"
    }
   },
   "outputs": [],
   "source": [
    "a, b = 2, 3\n",
    "print(a, b)"
   ]
  },
  {
   "cell_type": "code",
   "execution_count": null,
   "metadata": {
    "ExecuteTime": {
     "end_time": "2021-04-01T11:33:53.742260Z",
     "start_time": "2021-04-01T11:33:53.739044Z"
    }
   },
   "outputs": [],
   "source": [
    "a, b = b, a\n",
    "print(a, b)"
   ]
  },
  {
   "cell_type": "code",
   "execution_count": null,
   "metadata": {
    "ExecuteTime": {
     "end_time": "2021-04-01T11:33:54.026229Z",
     "start_time": "2021-04-01T11:33:54.022263Z"
    }
   },
   "outputs": [],
   "source": [
    "a, b = (2, 3)\n",
    "print(a, b)"
   ]
  },
  {
   "cell_type": "code",
   "execution_count": null,
   "metadata": {
    "ExecuteTime": {
     "end_time": "2021-04-01T11:33:54.298196Z",
     "start_time": "2021-04-01T11:33:54.294877Z"
    }
   },
   "outputs": [],
   "source": [
    "a, b = (2, 3)\n",
    "print(a, b)"
   ]
  },
  {
   "cell_type": "markdown",
   "metadata": {},
   "source": [
    "## 運算子的運作"
   ]
  },
  {
   "cell_type": "markdown",
   "metadata": {
    "ExecuteTime": {
     "end_time": "2021-03-31T15:15:33.414899Z",
     "start_time": "2021-03-31T15:15:33.407789Z"
    }
   },
   "source": [
    "### 運算子的內建方法：\n",
    "```\n",
    "__add__ : 加法\n",
    "__sub__ : 減法\n",
    "__mul__ : 乘法\n",
    "__mod__ : 除法\n",
    "```"
   ]
  },
  {
   "cell_type": "code",
   "execution_count": null,
   "metadata": {
    "ExecuteTime": {
     "end_time": "2021-04-01T11:21:40.870877Z",
     "start_time": "2021-04-01T11:21:40.867433Z"
    }
   },
   "outputs": [],
   "source": []
  },
  {
   "cell_type": "markdown",
   "metadata": {},
   "source": [
    "### 字串的四則運算"
   ]
  },
  {
   "cell_type": "code",
   "execution_count": null,
   "metadata": {
    "ExecuteTime": {
     "end_time": "2021-04-01T11:33:57.888304Z",
     "start_time": "2021-04-01T11:33:57.885100Z"
    }
   },
   "outputs": [],
   "source": [
    "\"cute \" + \"cat\""
   ]
  },
  {
   "cell_type": "code",
   "execution_count": null,
   "metadata": {
    "ExecuteTime": {
     "end_time": "2021-04-01T11:33:58.129284Z",
     "start_time": "2021-04-01T11:33:58.125825Z"
    }
   },
   "outputs": [],
   "source": [
    "\"cute \"*3"
   ]
  },
  {
   "cell_type": "markdown",
   "metadata": {},
   "source": [
    "### 串列的四則運算"
   ]
  },
  {
   "cell_type": "code",
   "execution_count": null,
   "metadata": {
    "ExecuteTime": {
     "end_time": "2021-04-01T11:33:58.609113Z",
     "start_time": "2021-04-01T11:33:58.605164Z"
    }
   },
   "outputs": [],
   "source": [
    "[1, 2, 3] + [4, 5, 6]"
   ]
  },
  {
   "cell_type": "code",
   "execution_count": null,
   "metadata": {
    "ExecuteTime": {
     "end_time": "2021-04-01T11:34:12.274517Z",
     "start_time": "2021-04-01T11:34:12.270383Z"
    }
   },
   "outputs": [],
   "source": [
    "[1, 2, 3]*3"
   ]
  },
  {
   "cell_type": "code",
   "execution_count": null,
   "metadata": {
    "code_folding": []
   },
   "outputs": [],
   "source": []
  },
  {
   "cell_type": "markdown",
   "metadata": {},
   "source": [
    "### 字串、串列的比較運算子是逐一比對"
   ]
  },
  {
   "cell_type": "code",
   "execution_count": null,
   "metadata": {
    "ExecuteTime": {
     "end_time": "2021-03-31T15:23:18.729738Z",
     "start_time": "2021-03-31T15:23:18.724928Z"
    }
   },
   "outputs": [],
   "source": [
    "\"123\" > \"23\""
   ]
  },
  {
   "cell_type": "code",
   "execution_count": null,
   "metadata": {
    "ExecuteTime": {
     "end_time": "2021-03-31T15:23:18.987470Z",
     "start_time": "2021-03-31T15:23:18.983986Z"
    }
   },
   "outputs": [],
   "source": [
    "[1,2,3] > [2,3]"
   ]
  },
  {
   "cell_type": "markdown",
   "metadata": {},
   "source": [
    "### 小括號的用途"
   ]
  },
  {
   "cell_type": "code",
   "execution_count": null,
   "metadata": {
    "ExecuteTime": {
     "end_time": "2021-04-01T11:34:18.576984Z",
     "start_time": "2021-04-01T11:34:18.572892Z"
    }
   },
   "outputs": [],
   "source": [
    "((2 + 5)*9 + 7) / 10"
   ]
  },
  {
   "cell_type": "markdown",
   "metadata": {},
   "source": [
    "## 邏輯運算符"
   ]
  },
  {
   "cell_type": "markdown",
   "metadata": {},
   "source": [
    "### 且 and"
   ]
  },
  {
   "cell_type": "code",
   "execution_count": null,
   "metadata": {
    "ExecuteTime": {
     "end_time": "2021-04-01T11:26:16.473220Z",
     "start_time": "2021-04-01T11:26:16.468928Z"
    }
   },
   "outputs": [],
   "source": [
    "a = 2\n",
    "b = 3\n",
    "\n",
    "print(\"(a==2) and (b==3) = \", (a==2) and (b==3))\n",
    "print(\"(a==2) and (b==2) = \", (a==2) and (b==2))\n",
    "print(\"(a==2) & (b==3) = \", (a==2) & (b==3))\n",
    "print(\"(a==2) & (b==2) = \", (a==2) & (b==2))"
   ]
  },
  {
   "cell_type": "markdown",
   "metadata": {},
   "source": [
    "### 或 or"
   ]
  },
  {
   "cell_type": "code",
   "execution_count": null,
   "metadata": {
    "ExecuteTime": {
     "end_time": "2021-04-01T11:27:16.941817Z",
     "start_time": "2021-04-01T11:27:16.937498Z"
    }
   },
   "outputs": [],
   "source": [
    "print(\"(a==2) or (b==3) = \", (a==1) or (b==3))\n",
    "print(\"(a==2) or (b==2) = \", (a==1) or (b==2))\n",
    "print(\"(a==2) | (b==3) = \", (a==1) | (b==3))\n",
    "print(\"(a==2) | (b==2) = \", (a==1) | (b==2))"
   ]
  },
  {
   "cell_type": "markdown",
   "metadata": {
    "ExecuteTime": {
     "end_time": "2021-03-31T15:28:00.574017Z",
     "start_time": "2021-03-31T15:28:00.572355Z"
    }
   },
   "source": [
    "### 非 not"
   ]
  },
  {
   "cell_type": "code",
   "execution_count": null,
   "metadata": {
    "ExecuteTime": {
     "end_time": "2021-04-01T11:28:08.664751Z",
     "start_time": "2021-04-01T11:28:08.661565Z"
    }
   },
   "outputs": [],
   "source": [
    "print(\"(a==2) or (not b==3) = \", (a==1) or (not b==3))"
   ]
  },
  {
   "cell_type": "markdown",
   "metadata": {},
   "source": [
    "## 成員運算符"
   ]
  },
  {
   "cell_type": "code",
   "execution_count": null,
   "metadata": {
    "ExecuteTime": {
     "end_time": "2021-04-01T11:29:01.522557Z",
     "start_time": "2021-04-01T11:29:01.519359Z"
    }
   },
   "outputs": [],
   "source": [
    "1 in [1, 2, 3]"
   ]
  },
  {
   "cell_type": "code",
   "execution_count": null,
   "metadata": {
    "ExecuteTime": {
     "end_time": "2021-04-01T11:29:15.025096Z",
     "start_time": "2021-04-01T11:29:15.022047Z"
    }
   },
   "outputs": [],
   "source": [
    "5 not in [1, 2, 3]"
   ]
  },
  {
   "cell_type": "markdown",
   "metadata": {},
   "source": [
    "## 身份運算符\n",
    "### 比較得是記憶體位置"
   ]
  },
  {
   "cell_type": "code",
   "execution_count": null,
   "metadata": {
    "ExecuteTime": {
     "end_time": "2021-07-08T15:35:30.323857Z",
     "start_time": "2021-07-08T15:35:30.321559Z"
    }
   },
   "outputs": [],
   "source": [
    "x = 12345\n",
    "y = 12345"
   ]
  },
  {
   "cell_type": "code",
   "execution_count": null,
   "metadata": {
    "ExecuteTime": {
     "end_time": "2021-07-08T15:35:30.837585Z",
     "start_time": "2021-07-08T15:35:30.829375Z"
    }
   },
   "outputs": [],
   "source": [
    "x == y"
   ]
  },
  {
   "cell_type": "code",
   "execution_count": null,
   "metadata": {
    "ExecuteTime": {
     "end_time": "2021-07-08T15:35:31.302407Z",
     "start_time": "2021-07-08T15:35:31.299079Z"
    }
   },
   "outputs": [],
   "source": [
    "x is y"
   ]
  },
  {
   "cell_type": "code",
   "execution_count": null,
   "metadata": {
    "ExecuteTime": {
     "end_time": "2021-04-01T11:35:31.793794Z",
     "start_time": "2021-04-01T11:35:31.790213Z"
    }
   },
   "outputs": [],
   "source": [
    "x is not y"
   ]
  },
  {
   "cell_type": "markdown",
   "metadata": {
    "ExecuteTime": {
     "end_time": "2021-03-31T15:31:59.185472Z",
     "start_time": "2021-03-31T15:31:59.176789Z"
    }
   },
   "source": [
    "## 按位運算符"
   ]
  },
  {
   "cell_type": "code",
   "execution_count": null,
   "metadata": {
    "ExecuteTime": {
     "end_time": "2021-04-01T11:38:15.417578Z",
     "start_time": "2021-04-01T11:38:15.414233Z"
    }
   },
   "outputs": [],
   "source": [
    "3 & 5\n",
    "# 3: 011\n",
    "# 5: 101\n",
    "# = 001"
   ]
  },
  {
   "cell_type": "code",
   "execution_count": null,
   "metadata": {},
   "outputs": [],
   "source": []
  },
  {
   "cell_type": "code",
   "execution_count": null,
   "metadata": {
    "ExecuteTime": {
     "end_time": "2021-04-01T11:39:08.796801Z",
     "start_time": "2021-04-01T11:39:08.793328Z"
    }
   },
   "outputs": [],
   "source": [
    "3 | 5\n",
    "# 3: 011\n",
    "# 5: 101\n",
    "# =  111"
   ]
  },
  {
   "cell_type": "code",
   "execution_count": null,
   "metadata": {
    "ExecuteTime": {
     "end_time": "2021-04-01T11:39:56.284534Z",
     "start_time": "2021-04-01T11:39:56.281129Z"
    }
   },
   "outputs": [],
   "source": [
    "3 ^ 5\n",
    "# 3: 011\n",
    "# 5: 101\n",
    "# =  110"
   ]
  },
  {
   "cell_type": "code",
   "execution_count": null,
   "metadata": {
    "ExecuteTime": {
     "end_time": "2021-04-01T11:41:05.718408Z",
     "start_time": "2021-04-01T11:41:05.715115Z"
    }
   },
   "outputs": [],
   "source": [
    "~5\n",
    "# -(x+1)"
   ]
  },
  {
   "cell_type": "code",
   "execution_count": null,
   "metadata": {
    "ExecuteTime": {
     "end_time": "2021-04-01T11:41:14.060025Z",
     "start_time": "2021-04-01T11:41:14.056826Z"
    }
   },
   "outputs": [],
   "source": [
    "~(-5)"
   ]
  },
  {
   "cell_type": "code",
   "execution_count": null,
   "metadata": {
    "ExecuteTime": {
     "end_time": "2021-04-01T11:41:54.925054Z",
     "start_time": "2021-04-01T11:41:54.921351Z"
    }
   },
   "outputs": [],
   "source": [
    "5<<2\n",
    "# 5:  101\n",
    "# = 10100"
   ]
  },
  {
   "cell_type": "code",
   "execution_count": null,
   "metadata": {
    "ExecuteTime": {
     "end_time": "2021-04-01T11:42:10.654886Z",
     "start_time": "2021-04-01T11:42:10.651641Z"
    }
   },
   "outputs": [],
   "source": [
    "5>>2\n",
    "# 5: 101\n",
    "# =  001"
   ]
  },
  {
   "cell_type": "markdown",
   "metadata": {},
   "source": [
    "# Python 的 |, &, or, and 差別在哪？\n",
    "```\n",
    "我們都知道 '|' 效果等同 or , '&' 則等同 and\n",
    "但實質上，今天物件有特別定義 __or__ 或是 __and__ 方法\n",
    "'|', '&' 兩個符號才能被使用\n",
    "or, and 關鍵字則是始終如一\n",
    "```\n",
    "\n",
    "## Python 的 or, and 是如何運作的？\n",
    "```\n",
    "以往我們都理所當然的認為 or, and 判斷輸出結果應該是 True 或 False\n",
    "然而事實不是如此的，or 跟 and 是判斷「有值沒值」\n",
    "```\n",
    "\n",
    "### or\n",
    "```\n",
    "當我們如此寫，1 or 2 時，會回傳 1\n",
    "當我們如此寫，0 or 2 時，會回傳 2\n",
    "這是因為 or 的判斷方式是：我先判斷第一個資料有沒有值，有 就回傳，沒有 我就再判斷下一個，若是都沒值，就回傳最後一個\n",
    "```\n",
    "### and\n",
    "```\n",
    "當我們如此寫，1 or 2 時，會回傳 2\n",
    "當我們如此寫，0 or 2 時，會回傳 0\n",
    "這是因為 and 的判斷方式是：我先判斷第一個資料有沒有值，沒有 就回傳，有 我就再判斷下一個，若是都有值，我就回傳最後一個\n",
    "```\n",
    "* 這也就是為什麼我們在 set 的 and, or 上會看到不是交集連集的結果了。\n",
    "\n",
    "## 有值沒值\n",
    "```\n",
    "沒值： ==0, ==[], ==\"\", =={}, == ()\n",
    "有值： 1, [1], \"1\", {1}, {1: 1}, (1,)\n",
    "```"
   ]
  },
  {
   "cell_type": "markdown",
   "metadata": {
    "ExecuteTime": {
     "end_time": "2021-04-01T11:46:09.526635Z",
     "start_time": "2021-04-01T11:46:09.524563Z"
    }
   },
   "source": [
    "# python venv kernel\n",
    "```\n",
    "conda activate <venv_name>\n",
    "pip install ipykernel\n",
    "python -m ipykernel install --user --name <venv_name> --display-name \"<venv_name>\"\n",
    "```"
   ]
  },
  {
   "cell_type": "code",
   "execution_count": null,
   "metadata": {},
   "outputs": [],
   "source": []
  }
 ],
 "metadata": {
  "kernelspec": {
   "display_name": "Python 3",
   "language": "python",
   "name": "python3"
  },
  "language_info": {
   "codemirror_mode": {
    "name": "ipython",
    "version": 3
   },
   "file_extension": ".py",
   "mimetype": "text/x-python",
   "name": "python",
   "nbconvert_exporter": "python",
   "pygments_lexer": "ipython3",
   "version": "3.7.3"
  },
  "toc": {
   "base_numbering": 1,
   "nav_menu": {},
   "number_sections": true,
   "sideBar": true,
   "skip_h1_title": false,
   "title_cell": "Table of Contents",
   "title_sidebar": "Contents",
   "toc_cell": false,
   "toc_position": {
    "height": "634px",
    "left": "26px",
    "top": "110px",
    "width": "349px"
   },
   "toc_section_display": true,
   "toc_window_display": true
  },
  "varInspector": {
   "cols": {
    "lenName": 16,
    "lenType": 16,
    "lenVar": 40
   },
   "kernels_config": {
    "python": {
     "delete_cmd_postfix": "",
     "delete_cmd_prefix": "del ",
     "library": "var_list.py",
     "varRefreshCmd": "print(var_dic_list())"
    },
    "r": {
     "delete_cmd_postfix": ") ",
     "delete_cmd_prefix": "rm(",
     "library": "var_list.r",
     "varRefreshCmd": "cat(var_dic_list()) "
    }
   },
   "position": {
    "height": "287px",
    "left": "1067.046875px",
    "right": "20px",
    "top": "166px",
    "width": "300px"
   },
   "types_to_exclude": [
    "module",
    "function",
    "builtin_function_or_method",
    "instance",
    "_Feature"
   ],
   "window_display": false
  }
 },
 "nbformat": 4,
 "nbformat_minor": 2
}
